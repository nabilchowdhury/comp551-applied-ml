{
 "cells": [
  {
   "cell_type": "code",
   "execution_count": 1,
   "metadata": {
    "collapsed": true
   },
   "outputs": [],
   "source": [
    "import matplotlib.pyplot as plt\n",
    "import numpy as np\n",
    "import pandas as pd\n",
    "%matplotlib inline"
   ]
  },
  {
   "cell_type": "code",
   "execution_count": 2,
   "metadata": {},
   "outputs": [
    {
     "name": "stdout",
     "output_type": "stream",
     "text": [
      "   0     1     2     3     4     5     6     7     8     9    ...    114  \\\n0  1.0  0.19  0.33  0.02  0.90  0.12  0.17  0.34  0.47  0.29  ...   0.12   \n1  1.0  0.00  0.16  0.12  0.74  0.45  0.07  0.26  0.59  0.35  ...   0.02   \n2  1.0  0.00  0.42  0.49  0.56  0.17  0.04  0.39  0.47  0.28  ...   0.01   \n3  1.0  0.04  0.77  1.00  0.08  0.12  0.10  0.51  0.50  0.34  ...   0.02   \n4  1.0  0.01  0.55  0.02  0.95  0.09  0.05  0.38  0.38  0.23  ...   0.04   \n\n    115   116   117   118  119  120   121   122   123  \n0  0.26  0.20  0.06  0.04  0.9  0.5  0.32  0.14  0.20  \n1  0.12  0.45   NaN   NaN  NaN  NaN  0.00   NaN  0.67  \n2  0.21  0.02   NaN   NaN  NaN  NaN  0.00   NaN  0.43  \n3  0.39  0.28   NaN   NaN  NaN  NaN  0.00   NaN  0.12  \n4  0.09  0.02   NaN   NaN  NaN  NaN  0.00   NaN  0.03  \n\n[5 rows x 124 columns]\n"
     ]
    }
   ],
   "source": [
    "'''\n",
    "3) Real-life dataset\n",
    "'''\n",
    "\n",
    "df = pd.read_csv('./Datasets/communities.csv', header=None)\n",
    "df[0] = 1\n",
    "df.drop([i for i in range(1, 5)], axis=1, inplace=True) # These columns are not predictive according to the dataset\n",
    "df.columns = [i for i in range(df.shape[1])] # Rename columns\n",
    "df = df.replace('?', np.NaN).astype(np.float64)\n",
    "\n",
    "print(df.head())"
   ]
  },
  {
   "cell_type": "code",
   "execution_count": 3,
   "metadata": {},
   "outputs": [
    {
     "name": "stdout",
     "output_type": "stream",
     "text": [
      "   0     1     2     3     4     5     6     7     8     9    ...    114  \\\n0  1.0  0.19  0.33  0.02  0.90  0.12  0.17  0.34  0.47  0.29  ...   0.12   \n1  1.0  0.00  0.16  0.12  0.74  0.45  0.07  0.26  0.59  0.35  ...   0.02   \n2  1.0  0.00  0.42  0.49  0.56  0.17  0.04  0.39  0.47  0.28  ...   0.01   \n3  1.0  0.04  0.77  1.00  0.08  0.12  0.10  0.51  0.50  0.34  ...   0.02   \n4  1.0  0.01  0.55  0.02  0.95  0.09  0.05  0.38  0.38  0.23  ...   0.04   \n\n    115   116       117       118       119       120   121       122   123  \n0  0.26  0.20  0.060000  0.040000  0.900000  0.500000  0.32  0.140000  0.20  \n1  0.12  0.45  0.163103  0.076708  0.698589  0.440439  0.00  0.195078  0.67  \n2  0.21  0.02  0.163103  0.076708  0.698589  0.440439  0.00  0.195078  0.43  \n3  0.39  0.28  0.163103  0.076708  0.698589  0.440439  0.00  0.195078  0.12  \n4  0.09  0.02  0.163103  0.076708  0.698589  0.440439  0.00  0.195078  0.03  \n\n[5 rows x 124 columns]\n"
     ]
    }
   ],
   "source": [
    "'''\n",
    "Part 1) Fill in missing values \n",
    "'''\n",
    "df.fillna(df.mean(), inplace=True)\n",
    "# print(df.columns[df.isnull().any()].tolist())\n",
    "\n",
    "N_examples = df.shape[0]\n",
    "M_cols = df.shape[1]\n",
    "\n",
    "data = np.array(df, dtype=np.float64)\n",
    "\n",
    "print(df.head())"
   ]
  },
  {
   "cell_type": "code",
   "execution_count": 5,
   "metadata": {},
   "outputs": [],
   "source": [
    "'''\n",
    "Part 2) Fit data and report 5-fold cross-validation error\n",
    "'''\n",
    "# Normal equation with regularization (lambda_reg=0 means no regularization)\n",
    "def fit(X, y, lambda_reg=0):\n",
    "    identity = np.identity(X.shape[1])\n",
    "    # identity[0, 0] = 0 # We do not penalize the bias term\n",
    "\n",
    "    X_square = np.matmul(np.transpose(X), X) + lambda_reg * identity\n",
    "    X_square_inverse = np.linalg.pinv(X_square)\n",
    "    weights = np.matmul(np.matmul(X_square_inverse, np.transpose(X)), y)\n",
    "\n",
    "    return weights\n",
    "\n",
    "# Gradient descent\n",
    "def gradient_descent(X, y, lambda_reg=0, alpha=1e-2, epochs=5000, weights=None):\n",
    "    '''\n",
    "    Implementation of vectorized gradient descent with L2 regularization support\n",
    "    :param X: The input matrix N x M, where each row is an example\n",
    "    :param y: The output, N x 1\n",
    "    :param lambda_reg: Regularization hyperparamter (0 means no regularization)\n",
    "    :param alpha: Learning rate\n",
    "    :param epochs: Number of cycles over training data\n",
    "    :param weights: Initial weights can be supplied if desired\n",
    "    :return: The optimal weights after gradient descent\n",
    "    '''\n",
    "    weights = weights if weights is not None else np.random.uniform(high=10, size=[M_cols - 1])\n",
    "    N = len(X)\n",
    "    for epoch in range(epochs):\n",
    "        weights = weights - alpha / N * ( np.matmul(np.transpose(X), np.matmul(X, weights) - y) + lambda_reg * weights)\n",
    "\n",
    "    return weights\n",
    "\n",
    "def mean_square_error(X, y, W):\n",
    "    y_hat = np.matmul(X, W)\n",
    "    mean_square_err = np.sum(np.square(y - y_hat)) / len(y)\n",
    "\n",
    "    return mean_square_err\n",
    "\n",
    "\n",
    "def cross_validation_split(X, n_folds=5, filename=\"file\", write_to_csv=False):\n",
    "    N = len(X) // 5\n",
    "    pairs = []\n",
    "    for i in range(n_folds):\n",
    "        fold_train1 = X[0:i * N]\n",
    "        if i < n_folds - 1:\n",
    "            fold_test = X[i*N:(i+1)*N]\n",
    "            fold_train2 = X[(i+1)*N:]\n",
    "        else:\n",
    "            fold_test = X[i*N:]\n",
    "            fold_train2 = X[N:N]\n",
    "\n",
    "        df_train = pd.DataFrame(np.concatenate((fold_train1, fold_train2)))\n",
    "        df_test = pd.DataFrame(fold_test)\n",
    "\n",
    "        if write_to_csv:\n",
    "            df_train.to_csv('./Datasets/' + filename + '-train' + str(i + 1) + '.csv', header=False, index=False)\n",
    "            df_test.to_csv('./Datasets/' + filename + '-test' + str(i + 1) + '.csv', header=False, index=False)\n",
    "\n",
    "        pairs.append({'train': df_train, 'test': df_test})\n",
    "\n",
    "    return pairs\n"
   ]
  },
  {
   "cell_type": "code",
   "execution_count": 6,
   "metadata": {},
   "outputs": [],
   "source": [
    "# Generate the files for 5-fold cross-validation\n",
    "# splits = [{'train':<train_data>, 'test': <test_data>}, {'train':<train_data>, 'test': <test_data>}, {'train':<train_data>, 'test': <test_data>}\\\n",
    "# {'train':<train_data>, 'test': <test_data>}, {'train':<train_data>, 'test': <test_data>}]\n",
    "splits = cross_validation_split(data, 5, 'CandC', False)"
   ]
  },
  {
   "cell_type": "code",
   "execution_count": 7,
   "metadata": {},
   "outputs": [],
   "source": [
    "MSEs_closed_form = []\n",
    "all_weights = []\n",
    "for pair in splits:\n",
    "    X_train = pair['train'].drop([M_cols - 1], axis=1)\n",
    "    y_train = pair['train'][M_cols-1]\n",
    "    X_test = pair['test'].drop([M_cols - 1], axis=1)\n",
    "    y_test = pair['test'][M_cols - 1]\n",
    "\n",
    "    weights = fit(X_train, y_train)\n",
    "    MSEs_closed_form.append(mean_square_error(X_test, y_test, weights))\n",
    "    all_weights.append(weights)\n",
    "    "
   ]
  },
  {
   "cell_type": "code",
   "execution_count": 8,
   "metadata": {},
   "outputs": [],
   "source": [
    "MSEs_gd = []\n",
    "all_weights_gd = []\n",
    "weights = np.random.uniform(high=10., size=[M_cols - 1])\n",
    "for pair in splits:\n",
    "    X_train = pair['train'].drop([M_cols - 1], axis=1)\n",
    "    y_train = pair['train'][M_cols - 1]\n",
    "    X_test = pair['test'].drop([M_cols - 1], axis=1)\n",
    "    y_test = pair['test'][M_cols - 1]\n",
    "\n",
    "    weights_gd = gradient_descent(np.array(X_train), np.array(y_train), epochs=20000, weights=np.copy(weights))\n",
    "    MSEs_gd.append(mean_square_error(X_test, y_test, weights_gd))\n",
    "    all_weights_gd.append(weights_gd)\n"
   ]
  },
  {
   "cell_type": "code",
   "execution_count": 9,
   "metadata": {},
   "outputs": [
    {
     "name": "stdout",
     "output_type": "stream",
     "text": [
      "least squares: 0.18373121756680147\ngradient descent: 0.5513726961887607\n"
     ]
    }
   ],
   "source": [
    "print('least squares:', np.average(MSEs_closed_form))\n",
    "print('gradient descent:', np.average(MSEs_gd))\n"
   ]
  },
  {
   "cell_type": "code",
   "execution_count": null,
   "metadata": {},
   "outputs": [],
   "source": []
  }
 ],
 "metadata": {
  "kernelspec": {
   "display_name": "Python 2",
   "language": "python",
   "name": "python2"
  },
  "language_info": {
   "codemirror_mode": {
    "name": "ipython",
    "version": 2
   },
   "file_extension": ".py",
   "mimetype": "text/x-python",
   "name": "python",
   "nbconvert_exporter": "python",
   "pygments_lexer": "ipython2",
   "version": "2.7.6"
  }
 },
 "nbformat": 4,
 "nbformat_minor": 0
}
