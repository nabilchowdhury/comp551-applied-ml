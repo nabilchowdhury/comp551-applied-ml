{
 "cells": [
  {
   "cell_type": "code",
   "execution_count": 1,
   "metadata": {},
   "outputs": [
    {
     "name": "stderr",
     "output_type": "stream",
     "text": [
      "UsageError: Line magic function `%matplotlob` not found.\n"
     ]
    }
   ],
   "source": [
    "import matplotlib.pyplot as plt\n",
    "import numpy as np\n",
    "import pandas as pd\n",
    "%matplotlib inline"
   ]
  },
  {
   "cell_type": "code",
   "execution_count": 2,
   "metadata": {},
   "outputs": [
    {
     "name": "stdout",
     "output_type": "stream",
     "text": [
      "          0          1   2\n",
      "0  0.516220   1.609671 NaN\n",
      "1  0.850085  14.814006 NaN\n",
      "2 -0.840629  -8.738649 NaN\n",
      "3  0.227433  -0.274344 NaN\n",
      "4 -0.649508  -8.683412 NaN\n"
     ]
    }
   ],
   "source": [
    "'''\n",
    "1) MODEL SELECTION\n",
    "'''\n",
    "'''\n",
    "Setup dataset\n",
    "'''\n",
    "GRANULARITY = 500 # Used for plot smoothness (higher is better)\n",
    "FIGSIZE = [10, 7]\n",
    "\n",
    "# Load the examples\n",
    "train_1 = pd.read_csv(r'./Datasets/Dataset_1_train.csv', header=None)\n",
    "valid_1 = pd.read_csv(r'./Datasets/Dataset_1_valid.csv', header=None)\n",
    "test_1 = pd.read_csv(r'./Datasets/Dataset_1_test.csv', header=None)\n",
    "\n",
    "# This makes it easier to work on all sets simultaneously\n",
    "example_set = {'train': train_1, 'valid': valid_1, 'test': test_1}\n",
    "output_set = {}\n",
    "\n",
    "print(train_1.head())"
   ]
  },
  {
   "cell_type": "code",
   "execution_count": 3,
   "metadata": {},
   "outputs": [
    {
     "name": "stdout",
     "output_type": "stream",
     "text": [
      "     0         1\n",
      "0  1.0  0.516220\n",
      "1  1.0  0.850085\n",
      "2  1.0 -0.840629\n",
      "3  1.0  0.227433\n",
      "4  1.0 -0.649508\n",
      "0     1.609671\n",
      "1    14.814006\n",
      "2    -8.738649\n",
      "3    -0.274344\n",
      "4    -8.683412\n",
      "Name: 1, dtype: float64\n"
     ]
    }
   ],
   "source": [
    "'''\n",
    "Part 1: Fit 20 degree polynomial\n",
    "'''\n",
    "MAX_DEGREE = 20\n",
    "\n",
    "# Create the x axis for the fit (this is used for plotting the fit)\n",
    "x_axis = pd.DataFrame(np.ones(GRANULARITY))\n",
    "x_axis[1] = np.arange(-1, 1, 2 / GRANULARITY)\n",
    "for i in range(2, MAX_DEGREE + 1):\n",
    "    x_axis[i] = pow(x_axis[1], i)\n",
    "    \n",
    "# Preprocessing of input\n",
    "for key in example_set:\n",
    "    # Separate y from features\n",
    "    output_set[key] = example_set[key][1]\n",
    "    example_set[key].drop([1, 2], axis=1, inplace=True) # drop y column and null column from original dataframe\n",
    "    # Add column of 1s as bias\n",
    "    example_set[key].columns = [1]\n",
    "    example_set[key][0] = 1.\n",
    "    example_set[key] = example_set[key][[0, 1]]\n",
    "\n",
    "print(example_set['train'].head())\n",
    "print(output_set['train'].head())"
   ]
  },
  {
   "cell_type": "code",
   "execution_count": 4,
   "metadata": {
    "collapsed": true
   },
   "outputs": [
    {
     "name": "stderr",
     "output_type": "stream",
     "text": [
      "C:\\Users\\Nabil\\Desktop\\COMP551ASSIGNMENTS\\env\\lib\\site-packages\\ipykernel_launcher.py:4: SettingWithCopyWarning: \n",
      "A value is trying to be set on a copy of a slice from a DataFrame.\n",
      "Try using .loc[row_indexer,col_indexer] = value instead\n",
      "\n",
      "See the caveats in the documentation: http://pandas.pydata.org/pandas-docs/stable/indexing.html#indexing-view-versus-copy\n",
      "  after removing the cwd from sys.path.\n"
     ]
    }
   ],
   "source": [
    "# Generate polynomial features up to x^20. We already have bias and x^1\n",
    "for i in range(2, MAX_DEGREE + 1):\n",
    "    for _, df in example_set.items():\n",
    "        df[i] = np.power(df[1], i)"
   ]
  },
  {
   "cell_type": "code",
   "execution_count": 5,
   "metadata": {},
   "outputs": [
    {
     "name": "stdout",
     "output_type": "stream",
     "text": [
      "    0         1         2         3         4         5         6         7   \\\n",
      "0  1.0  0.516220  0.266483  0.137564  0.071013  0.036658  0.018924  0.009769   \n",
      "1  1.0  0.850085  0.722644  0.614308  0.522214  0.443926  0.377375  0.320800   \n",
      "2  1.0 -0.840629  0.706656 -0.594035  0.499363 -0.419779  0.352878 -0.296639   \n",
      "3  1.0  0.227433  0.051726  0.011764  0.002676  0.000609  0.000138  0.000031   \n",
      "4  1.0 -0.649508  0.421860 -0.274002  0.177966 -0.115590  0.075077 -0.048763   \n",
      "\n",
      "         8         9       ...                 11            12            13  \\\n",
      "0  0.005043  0.002603      ...       6.937138e-04  3.581088e-04  1.848628e-04   \n",
      "1  0.272707  0.231824      ...       1.675264e-01  1.424116e-01  1.210619e-01   \n",
      "2  0.249364 -0.209622      ...      -1.481308e-01  1.245230e-01 -1.046776e-01   \n",
      "3  0.000007  0.000002      ...       8.421386e-08  1.915299e-08  4.356018e-09   \n",
      "4  0.031672 -0.020571      ...      -8.678179e-03  5.636546e-03 -3.660981e-03   \n",
      "\n",
      "             14            15            16            17            18  \\\n",
      "0  9.542982e-05  4.926275e-05  2.543040e-05  1.312768e-05  6.776765e-06   \n",
      "1  1.029129e-01  8.748463e-02  7.436933e-02  6.322022e-02  5.374253e-02   \n",
      "2  8.799495e-02 -7.397107e-02  6.218219e-02 -5.227212e-02  4.394144e-02   \n",
      "3  9.907013e-10  2.253180e-10  5.124469e-11  1.165472e-11  2.650666e-12   \n",
      "4  2.377836e-03 -1.544423e-03  1.003115e-03 -6.515311e-04  4.231746e-04   \n",
      "\n",
      "             19            20  \n",
      "0  3.498299e-06  1.805891e-06  \n",
      "1  4.568569e-02  3.883670e-02  \n",
      "2 -3.693843e-02  3.105149e-02  \n",
      "3  6.028483e-13  1.371075e-13  \n",
      "4 -2.748552e-04  1.785206e-04  \n",
      "\n",
      "[5 rows x 21 columns]\n"
     ]
    }
   ],
   "source": [
    "print(example_set['train'].head())"
   ]
  },
  {
   "cell_type": "code",
   "execution_count": 6,
   "metadata": {},
   "outputs": [],
   "source": [
    "# Convert to numpy arrays (makes it faster)\n",
    "for key in example_set:\n",
    "    example_set[key] = np.array(example_set[key], dtype=np.float64)\n",
    "    output_set[key] = np.array(output_set[key], dtype=np.float64)"
   ]
  },
  {
   "cell_type": "code",
   "execution_count": 8,
   "metadata": {},
   "outputs": [],
   "source": [
    "def fit(X, y, lambda_reg=0):\n",
    "    '''\n",
    "    Uses least-squares closed-form solution to obtain the optimal weights\n",
    "\n",
    "    :param X: The input matrix of shape N x M\n",
    "    :param y: The output vector N x 1\n",
    "    :param lambda_reg: The regularization term. lambda_reg=0 means no regularization\n",
    "    :return: The optimal weights as an M x 1 vector\n",
    "    '''\n",
    "    identity = np.identity(X.shape[1])\n",
    "    # identity[0, 0] = 0 # We do not penalize the bias term\n",
    "    X_square = np.matmul(np.transpose(X), X) + lambda_reg * identity\n",
    "    X_square_inverse = np.linalg.pinv(X_square)\n",
    "    weights = np.matmul(np.matmul(X_square_inverse, np.transpose(X)), y)\n",
    "\n",
    "    return weights\n",
    "\n",
    "def mean_square_error(X, y, W):\n",
    "    '''\n",
    "    Comptes the MSE of the dataset\n",
    "    :param X: The input matrix of shape N x M\n",
    "    :param y: The output vector N x 1\n",
    "    :param W: Weights M x 1\n",
    "    :return: MSE\n",
    "    '''\n",
    "    y_hat = np.matmul(X, W)\n",
    "    mean_square_err = np.sum(np.square(y - y_hat)) / len(y)\n",
    "\n",
    "    return mean_square_err\n",
    "\n",
    "def visualize(W, visualize_all=False, X=None, y=None, title_for_all=\"\", title_for_x=\"\", save_all_as=None, save_x_as=None):\n",
    "    '''\n",
    "    Convenience function used for plotting\n",
    "    :param W: The weights of the model\n",
    "    :param visualize_all: Visualize all sets\n",
    "    :param X: Visualize the given input X\n",
    "    :param y: The output associated with input X\n",
    "    :param title_for_all: Title for plot if visualize_all is set\n",
    "    :param title_for_x: Title for plot if X is given\n",
    "    :param save_all_as: Save the plot generated if visualize_all is set\n",
    "    :param save_x_as: Save the plot generated for input X and associated output y\n",
    "    '''\n",
    "    global x_axis\n",
    "    model_fit = np.matmul(x_axis, W)\n",
    "\n",
    "    # Visualize fit on all three sets of data\n",
    "    fig_no = 1\n",
    "    if visualize_all:\n",
    "        plt.figure(fig_no, figsize=FIGSIZE)\n",
    "        fig_no += 1\n",
    "        for i, key in enumerate(example_set, 1):\n",
    "            plt.subplot(len(example_set), 1, i)\n",
    "            plt.scatter(example_set[key][:, 1], output_set[key])\n",
    "            plt.plot(x_axis[1], model_fit, 'r--')\n",
    "            plt.title(title_for_all + \": \" + key.upper())\n",
    "            plt.xlabel('x')\n",
    "            plt.ylabel('y')\n",
    "            plt.ylim([-22, 40])\n",
    "        plt.tight_layout()\n",
    "        if save_all_as:\n",
    "            plt.savefig('./plots/' + save_all_as,  bbox_inches='tight')\n",
    "\n",
    "    if not(X is None or y is None):\n",
    "        plt.figure(fig_no, figsize=FIGSIZE)\n",
    "        plt.scatter(X[:, 1], y)\n",
    "        plt.plot(x_axis[1], model_fit, 'r--')\n",
    "        plt.title(title_for_x)\n",
    "        plt.xlabel('x')\n",
    "        plt.ylabel('y')\n",
    "        plt.ylim([-22, 40])\n",
    "        if save_x_as:\n",
    "            plt.savefig('./plots/' + save_x_as,  bbox_inches='tight')\n",
    "    plt.show()"
   ]
  },
  {
   "cell_type": "code",
   "execution_count": 9,
   "metadata": {},
   "outputs": [
    {
     "name": "stdout",
     "output_type": "stream",
     "text": [
      "MSE for train set : 7.152591698311463\n",
      "MSE for valid set : 458.64632551158587\n",
      "MSE for test set : 17.251634115806542\n"
     ]
    }
   ],
   "source": [
    "# Calculate the optimal weights based on the TRAINING examples (no regularization)\n",
    "weights_no_reg = fit(example_set['train'], output_set['train'])\n",
    "# Display MSEs for each set\n",
    "for key in example_set:\n",
    "    print('MSE for', key, 'set :', mean_square_error(example_set[key], output_set[key], weights_no_reg))"
   ]
  },
  {
   "cell_type": "code",
   "execution_count": 10,
   "metadata": {},
   "outputs": [],
   "source": [
    "# Observe the curve on all datasets\n",
    "visualize(weights_no_reg, visualize_all=True, title_for_all='Part 1', save_all_as='q1p1.png')"
   ]
  },
  {
   "cell_type": "code",
   "execution_count": null,
   "metadata": {},
   "outputs": [],
   "source": []
  }
 ],
 "metadata": {
  "kernelspec": {
   "display_name": "Python 3",
   "language": "python",
   "name": "python3"
  },
  "language_info": {
   "codemirror_mode": {
    "name": "ipython",
    "version": 3
   },
   "file_extension": ".py",
   "mimetype": "text/x-python",
   "name": "python",
   "nbconvert_exporter": "python",
   "pygments_lexer": "ipython3",
   "version": "3.6.3"
  }
 },
 "nbformat": 4,
 "nbformat_minor": 1
}
